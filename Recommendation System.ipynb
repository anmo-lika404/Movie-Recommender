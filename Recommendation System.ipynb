{
 "cells": [
  {
   "cell_type": "code",
   "execution_count": 1,
   "id": "df115907",
   "metadata": {},
   "outputs": [],
   "source": [
    "import pandas as pd\n",
    "from sklearn.feature_extraction.text import TfidfVectorizer\n",
    "from sklearn.metrics.pairwise import linear_kernel\n",
    "import pickle\n"
   ]
  },
  {
   "cell_type": "code",
   "execution_count": 2,
   "id": "12ebf2da",
   "metadata": {},
   "outputs": [
    {
     "name": "stdout",
     "output_type": "stream",
     "text": [
      "/Users/anmolika/Downloads/MRS\n"
     ]
    }
   ],
   "source": [
    "cd '/Users/anmolika/Downloads/MRS'"
   ]
  },
  {
   "cell_type": "code",
   "execution_count": 3,
   "id": "3798a242",
   "metadata": {},
   "outputs": [
    {
     "name": "stdout",
     "output_type": "stream",
     "text": [
      "<class 'pandas.core.frame.DataFrame'>\n",
      "RangeIndex: 1000 entries, 0 to 999\n",
      "Data columns (total 11 columns):\n",
      " #   Column              Non-Null Count  Dtype  \n",
      "---  ------              --------------  -----  \n",
      " 0   Unnamed: 0          1000 non-null   int64  \n",
      " 1   Title               1000 non-null   object \n",
      " 2   Year of Release     997 non-null    object \n",
      " 3   Watch Time          951 non-null    object \n",
      " 4   Genre               1000 non-null   object \n",
      " 5   Movie Rating        942 non-null    float64\n",
      " 6   Metascore of movie  910 non-null    float64\n",
      " 7   Director            1000 non-null   object \n",
      " 8   Cast                1000 non-null   object \n",
      " 9   Votes               942 non-null    object \n",
      " 10  Description         1000 non-null   object \n",
      "dtypes: float64(2), int64(1), object(8)\n",
      "memory usage: 86.1+ KB\n"
     ]
    },
    {
     "data": {
      "text/plain": [
       "False"
      ]
     },
     "execution_count": 3,
     "metadata": {},
     "output_type": "execute_result"
    }
   ],
   "source": [
    "data=pd.read_excel(\"movie_data.xlsx\")\n",
    "data.info()\n",
    "data.rename(columns={'Unnamed: 0': 'movie_id'}, inplace=True)\n",
    "\n",
    "columns=['Cast','Director','Genre','Title','Description']\n",
    "\n",
    "\n",
    "data[columns].isnull().values.any()#no null values\n",
    "\n"
   ]
  },
  {
   "cell_type": "code",
   "execution_count": 4,
   "id": "78843b13",
   "metadata": {},
   "outputs": [],
   "source": [
    "def get_important_features(data):\n",
    "    important_features=[]\n",
    "    for i in range (0,data.shape[0]):\n",
    "        important_features.append(data['Title'][i]+' '+data['Director'][i]+' '+data['Genre'][i]+' '+data['Description'][i])\n",
    "    return important_features"
   ]
  },
  {
   "cell_type": "code",
   "execution_count": 5,
   "id": "9bf44fc1",
   "metadata": {},
   "outputs": [],
   "source": [
    "#creating a column to hold the combined strings\n",
    "data['important_features']=get_important_features(data)"
   ]
  },
  {
   "cell_type": "code",
   "execution_count": 6,
   "id": "99516943",
   "metadata": {},
   "outputs": [
    {
     "data": {
      "text/plain": [
       "(1000, 6763)"
      ]
     },
     "execution_count": 6,
     "metadata": {},
     "output_type": "execute_result"
    }
   ],
   "source": [
    "tfidf = TfidfVectorizer(stop_words='english')\n",
    "#data['Description'] = data['Description'].fillna('')\n",
    "tfidf_matrix = tfidf.fit_transform(data['important_features'])\n",
    "tfidf_matrix.shape"
   ]
  },
  {
   "cell_type": "code",
   "execution_count": 7,
   "id": "89390a4a",
   "metadata": {},
   "outputs": [],
   "source": [
    "cosine_sim = linear_kernel(tfidf_matrix, tfidf_matrix)"
   ]
  },
  {
   "cell_type": "code",
   "execution_count": 9,
   "id": "a84e1ef5",
   "metadata": {},
   "outputs": [
    {
     "data": {
      "text/html": [
       "<div>\n",
       "<style scoped>\n",
       "    .dataframe tbody tr th:only-of-type {\n",
       "        vertical-align: middle;\n",
       "    }\n",
       "\n",
       "    .dataframe tbody tr th {\n",
       "        vertical-align: top;\n",
       "    }\n",
       "\n",
       "    .dataframe thead th {\n",
       "        text-align: right;\n",
       "    }\n",
       "</style>\n",
       "<table border=\"1\" class=\"dataframe\">\n",
       "  <thead>\n",
       "    <tr style=\"text-align: right;\">\n",
       "      <th></th>\n",
       "      <th>Movies</th>\n",
       "      <th>id</th>\n",
       "    </tr>\n",
       "  </thead>\n",
       "  <tbody>\n",
       "    <tr>\n",
       "      <th>0</th>\n",
       "      <td>Call Me by Your Name</td>\n",
       "      <td>267</td>\n",
       "    </tr>\n",
       "    <tr>\n",
       "      <th>1</th>\n",
       "      <td>The Notebook</td>\n",
       "      <td>350</td>\n",
       "    </tr>\n",
       "    <tr>\n",
       "      <th>2</th>\n",
       "      <td>Terminator 2: Judgment Day</td>\n",
       "      <td>330</td>\n",
       "    </tr>\n",
       "    <tr>\n",
       "      <th>3</th>\n",
       "      <td>Lady Bird</td>\n",
       "      <td>547</td>\n",
       "    </tr>\n",
       "    <tr>\n",
       "      <th>4</th>\n",
       "      <td>Twilight</td>\n",
       "      <td>246</td>\n",
       "    </tr>\n",
       "  </tbody>\n",
       "</table>\n",
       "</div>"
      ],
      "text/plain": [
       "                       Movies   id\n",
       "0        Call Me by Your Name  267\n",
       "1                The Notebook  350\n",
       "2  Terminator 2: Judgment Day  330\n",
       "3                   Lady Bird  547\n",
       "4                    Twilight  246"
      ]
     },
     "execution_count": 9,
     "metadata": {},
     "output_type": "execute_result"
    }
   ],
   "source": [
    "indices = pd.Series(data.index, index=data['Title']).drop_duplicates()\n",
    "#indices['Stillwater']\n",
    "#sim_scores = list(enumerate(cosine_sim[indices['Stillwater']]))\n",
    "def get_recommendations(title, cosine_sim=cosine_sim):\n",
    "    idx = indices[title]\n",
    "    # Get the pairwsie similarity scores of all movies with that movie\n",
    "    sim_scores = list(enumerate(cosine_sim[idx]))\n",
    "    # Sort the movies based on the similarity score\n",
    "    sim_scores = sorted(sim_scores, key=lambda x: x[1], reverse=True)\n",
    "    sim_scores = sim_scores[1:6]\n",
    "    movie_indices = [i[0] for i in sim_scores]\n",
    "    # Return the top 5 most similar movies\n",
    "    movies=data['Title'].iloc[movie_indices]\n",
    "    id=data['movie_id'].iloc[movie_indices]\n",
    "    dict={\"Movies\":movies,\"id\":id}\n",
    "    final_df=pd.DataFrame(dict)\n",
    "    final_df.reset_index(drop=True,inplace=True)\n",
    "    return final_df\n",
    "\n",
    "\n",
    "get_recommendations('Titanic')\n",
    "#Stillwater\n",
    "#get_recommendations('Stillwater')"
   ]
  },
  {
   "cell_type": "code",
   "execution_count": 10,
   "id": "661b1afc",
   "metadata": {},
   "outputs": [
    {
     "name": "stdout",
     "output_type": "stream",
     "text": [
      "<class 'pandas.core.frame.DataFrame'>\n",
      "RangeIndex: 1000 entries, 0 to 999\n",
      "Data columns (total 12 columns):\n",
      " #   Column              Non-Null Count  Dtype  \n",
      "---  ------              --------------  -----  \n",
      " 0   movie_id            1000 non-null   int64  \n",
      " 1   Title               1000 non-null   object \n",
      " 2   Year of Release     997 non-null    object \n",
      " 3   Watch Time          951 non-null    object \n",
      " 4   Genre               1000 non-null   object \n",
      " 5   Movie Rating        942 non-null    float64\n",
      " 6   Metascore of movie  910 non-null    float64\n",
      " 7   Director            1000 non-null   object \n",
      " 8   Cast                1000 non-null   object \n",
      " 9   Votes               942 non-null    object \n",
      " 10  Description         1000 non-null   object \n",
      " 11  important_features  1000 non-null   object \n",
      "dtypes: float64(2), int64(1), object(9)\n",
      "memory usage: 93.9+ KB\n"
     ]
    }
   ],
   "source": [
    "data.info()\n",
    "new = data.drop(columns=['Year of Release','Watch Time','Genre','Movie Rating','Metascore of movie','Director','Cast','Votes','Description'])\n",
    "\n"
   ]
  },
  {
   "cell_type": "code",
   "execution_count": null,
   "id": "094bfe19",
   "metadata": {},
   "outputs": [],
   "source": []
  }
 ],
 "metadata": {
  "kernelspec": {
   "display_name": "Python 3",
   "language": "python",
   "name": "python3"
  },
  "language_info": {
   "codemirror_mode": {
    "name": "ipython",
    "version": 3
   },
   "file_extension": ".py",
   "mimetype": "text/x-python",
   "name": "python",
   "nbconvert_exporter": "python",
   "pygments_lexer": "ipython3",
   "version": "3.8.8"
  }
 },
 "nbformat": 4,
 "nbformat_minor": 5
}
